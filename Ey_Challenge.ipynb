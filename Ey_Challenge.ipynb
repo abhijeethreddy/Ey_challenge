{
 "cells": [
  {
   "cell_type": "code",
   "execution_count": 22,
   "id": "049b38ed-a743-4cf1-8062-baf3d7fc5d48",
   "metadata": {},
   "outputs": [],
   "source": [
    "# Supress Warnings\n",
    "import warnings\n",
    "warnings.filterwarnings('ignore')\n",
    "\n",
    "# Visualization\n",
    "import ipyleaflet\n",
    "import matplotlib.pyplot as plt\n",
    "from IPython.display import Image\n",
    "import seaborn as sns\n",
    "\n",
    "# Data Science\n",
    "import numpy as np\n",
    "import pandas as pd\n",
    "\n",
    "# Feature Engineering\n",
    "from sklearn.preprocessing import StandardScaler\n",
    "from sklearn.model_selection import train_test_split\n",
    "\n",
    "# Machine Learning\n",
    "from sklearn.linear_model import LogisticRegression\n",
    "from sklearn.metrics import f1_score, accuracy_score,classification_report,confusion_matrix\n",
    "\n",
    "# Planetary Computer Tools\n",
    "import pystac\n",
    "import pystac_client\n",
    "import odc\n",
    "from pystac_client import Client\n",
    "from pystac.extensions.eo import EOExtension as eo\n",
    "from odc.stac import stac_load\n",
    "import planetary_computer as pc\n",
    "pc.settings.set_subscription_key('b72d601123ae4405871f9b460ae6e946')\n",
    "\n",
    "# Others\n",
    "import requests\n",
    "import rich.table\n",
    "from itertools import cycle\n",
    "from tqdm import tqdm\n",
    "tqdm.pandas()"
   ]
  },
  {
   "cell_type": "code",
   "execution_count": 23,
   "id": "ac1a3ed8-7547-4d23-9352-092e0a733bbe",
   "metadata": {},
   "outputs": [
    {
     "data": {
      "text/html": [
       "<div>\n",
       "<style scoped>\n",
       "    .dataframe tbody tr th:only-of-type {\n",
       "        vertical-align: middle;\n",
       "    }\n",
       "\n",
       "    .dataframe tbody tr th {\n",
       "        vertical-align: top;\n",
       "    }\n",
       "\n",
       "    .dataframe thead th {\n",
       "        text-align: right;\n",
       "    }\n",
       "</style>\n",
       "<table border=\"1\" class=\"dataframe\">\n",
       "  <thead>\n",
       "    <tr style=\"text-align: right;\">\n",
       "      <th></th>\n",
       "      <th>Latitude and Longitude</th>\n",
       "      <th>Class of Land</th>\n",
       "    </tr>\n",
       "  </thead>\n",
       "  <tbody>\n",
       "    <tr>\n",
       "      <th>0</th>\n",
       "      <td>(10.323727047081501, 105.2516346045924)</td>\n",
       "      <td>Rice</td>\n",
       "    </tr>\n",
       "    <tr>\n",
       "      <th>1</th>\n",
       "      <td>(10.322364360592521, 105.27843410554115)</td>\n",
       "      <td>Rice</td>\n",
       "    </tr>\n",
       "    <tr>\n",
       "      <th>2</th>\n",
       "      <td>(10.321455902933202, 105.25254306225168)</td>\n",
       "      <td>Rice</td>\n",
       "    </tr>\n",
       "    <tr>\n",
       "      <th>3</th>\n",
       "      <td>(10.324181275911162, 105.25118037576274)</td>\n",
       "      <td>Rice</td>\n",
       "    </tr>\n",
       "    <tr>\n",
       "      <th>4</th>\n",
       "      <td>(10.324635504740822, 105.27389181724476)</td>\n",
       "      <td>Rice</td>\n",
       "    </tr>\n",
       "  </tbody>\n",
       "</table>\n",
       "</div>"
      ],
      "text/plain": [
       "                     Latitude and Longitude Class of Land\n",
       "0   (10.323727047081501, 105.2516346045924)          Rice\n",
       "1  (10.322364360592521, 105.27843410554115)          Rice\n",
       "2  (10.321455902933202, 105.25254306225168)          Rice\n",
       "3  (10.324181275911162, 105.25118037576274)          Rice\n",
       "4  (10.324635504740822, 105.27389181724476)          Rice"
      ]
     },
     "execution_count": 23,
     "metadata": {},
     "output_type": "execute_result"
    }
   ],
   "source": [
    "#getting the Crop data\n",
    "crop_presence_data = pd.read_csv(\"Crop_Location_Data.csv\")\n",
    "crop_presence_data.head()"
   ]
  },
  {
   "cell_type": "code",
   "execution_count": 24,
   "id": "97973f00-94b3-4605-9cce-b9c653302dac",
   "metadata": {},
   "outputs": [],
   "source": [
    "# taking coordinates as input and outputting the xarray of collected bands of sentinal2 dataset\n",
    "def get_data(bounds,time_window):\n",
    "    stac = pystac_client.Client.open(\"https://planetarycomputer.microsoft.com/api/stac/v1\")\n",
    "    search = stac.search(collections=[\"sentinel-2-l2a\"], bbox=bounds, datetime=time_window)\n",
    "    items = list(search.get_all_items())\n",
    "    # print('This is the number of scenes that touch our region:',len(items))\n",
    "    resolution = 1  # meters per pixel \n",
    "    scale = resolution / 111320.0 # degrees per pixel for CRS:4326 \n",
    "    xx = stac_load(\n",
    "        items,\n",
    "        bands=[\"red\", \"green\", \"blue\", \"nir\", \"SCL\"],\n",
    "        crs=\"EPSG:4326\", # Latitude-Longitude\n",
    "        resolution=scale, # Degrees\n",
    "        chunks={\"x\": 2048, \"y\": 2048},\n",
    "        dtype=\"uint16\",\n",
    "        patch_url=pc.sign,\n",
    "        bbox=bounds\n",
    "    )\n",
    "    return xx;\n",
    "    "
   ]
  },
  {
   "cell_type": "code",
   "execution_count": 25,
   "id": "e7dcd6a8-2803-4d68-a1b0-b26047d75875",
   "metadata": {},
   "outputs": [],
   "source": [
    "#cleaing the dataset removing the cloud mask and water\n",
    "def clean_data(xx):\n",
    "    scl_colormap = np.array(\n",
    "    [\n",
    "        [252,  40, 228, 255],  # 0  - NODATA - MAGENTA\n",
    "        [255,   0,   4, 255],  # 1  - Saturated or Defective - RED\n",
    "        [0  ,   0,   0, 255],  # 2  - Dark Areas - BLACK\n",
    "        [97 ,  97,  97, 255],  # 3  - Cloud Shadow - DARK GREY\n",
    "        [3  , 139,  80, 255],  # 4  - Vegetation - GREEN\n",
    "        [192, 132,  12, 255],  # 5  - Bare Ground - BROWN\n",
    "        [21 , 103, 141, 255],  # 6  - Water - BLUE\n",
    "        [117,   0,  27, 255],  # 7  - Unclassified - MAROON\n",
    "        [208, 208, 208, 255],  # 8  - Cloud - LIGHT GREY\n",
    "        [244, 244, 244, 255],  # 9  - Definitely Cloud - WHITE\n",
    "        [195, 231, 240, 255],  # 10 - Thin Cloud - LIGHT BLUE\n",
    "        [222, 157, 204, 255],  # 11 - Snow or Ice - PINK\n",
    "    ],\n",
    "    dtype=\"uint8\",\n",
    "    )\n",
    "    # Create a mask for no data, saturated data, clouds, cloud shadows, and water\n",
    "\n",
    "    cloud_mask = \\\n",
    "        (xx.SCL != 0) & \\\n",
    "        (xx.SCL != 1) & \\\n",
    "        (xx.SCL != 3) & \\\n",
    "        (xx.SCL != 6) & \\\n",
    "        (xx.SCL != 8) & \\\n",
    "        (xx.SCL != 9) & \\\n",
    "        (xx.SCL != 10)\n",
    "    cleaned_data = xx.where(cloud_mask).astype(\"uint16\")\n",
    "    return cleaned_data;"
   ]
  },
  {
   "cell_type": "code",
   "execution_count": 26,
   "id": "7c274e7f-b540-4d9a-9b23-cfe9ff76d8db",
   "metadata": {},
   "outputs": [],
   "source": [
    "# taking out the ndvi,givi ,rvi, ipvi from recived data\n",
    "def cal_params(cleaned_data):\n",
    "    mean_clean = cleaned_data.max(dim=['longitude','latitude']).compute()\n",
    "    ndvi_mean_clean = (mean_clean.nir-mean_clean.red)/(mean_clean.nir+mean_clean.red)\n",
    "    gvi_mean_clean= (mean_clean.nir-mean_clean.green)/(mean_clean.nir+mean_clean.green)\n",
    "    rvi_mean_clean= (mean_clean.nir)/(mean_clean.red)\n",
    "    ipvi_mean_clean= (mean_clean.nir)/(mean_clean.nir+mean_clean.red)\n",
    "    params=[ndvi_mean_clean.data[0],gvi_mean_clean.data[0],rvi_mean_clean.data[0],ipvi_mean_clean.data[0],mean_clean.red.data[0],mean_clean.green.data[0],mean_clean.nir.data[0]]\n",
    "    return params"
   ]
  },
  {
   "cell_type": "code",
   "execution_count": 27,
   "id": "f3ecdd8a-3c54-49f1-8b69-26ca8e813913",
   "metadata": {},
   "outputs": [],
   "source": [
    "#placing the bounding box and  selection the the box size\n",
    "def get_sentinel_data(latlong,time_slice):\n",
    "    box_size_deg = 0.01 # Surrounding box in degrees\n",
    "    latlong=latlong.replace('(','').replace(')','').replace(' ','').split(',')\n",
    "    time_of_interest = time_slice\n",
    "    min_lon = float(latlong[1])-box_size_deg/2\n",
    "    min_lat = float(latlong[0])-box_size_deg/2\n",
    "    max_lon = float(latlong[1])+box_size_deg/2\n",
    "    max_lat = float(latlong[0])+box_size_deg/2 \n",
    "    bounds = (min_lon, min_lat, max_lon, max_lat)\n",
    "    data=get_data(bounds,time_slice)\n",
    "    cleaned_data=clean_data(data)\n",
    "    params=cal_params(cleaned_data);\n",
    "    return params"
   ]
  },
  {
   "cell_type": "code",
   "execution_count": 40,
   "id": "b7f80872-06dd-423b-a577-ba03a58c8e6a",
   "metadata": {},
   "outputs": [
    {
     "name": "stderr",
     "output_type": "stream",
     "text": [
      "100%|██████████| 600/600 [2:00:12<00:00, 12.02s/it]  \n"
     ]
    }
   ],
   "source": [
    "## Function call to get the data at the harvesting time of September \n",
    "time_slice = \"2020-9-15/2020-9-15\"\n",
    "vegitation_values = []\n",
    "for coordinates in tqdm(crop_presence_data['Latitude and Longitude']):\n",
    "    vegitation_values.append(get_sentinel_data(coordinates,time_slice))\n"
   ]
  },
  {
   "cell_type": "code",
   "execution_count": 41,
   "id": "b66520e1-51f8-4790-8834-d4d6ab95bfbf",
   "metadata": {},
   "outputs": [
    {
     "name": "stdout",
     "output_type": "stream",
     "text": [
      "       ndvi       gvi       rvi      ipvi   red  green    ir\n",
      "0  0.263312  0.267336  1.714854  0.631656  3016   2990  5172\n",
      "1  0.329077  0.345265  1.980966  0.664538  2732   2634  5412\n",
      "2  0.263312  0.267336  1.714854  0.631656  3016   2990  5172\n",
      "3  0.248255  0.252313  1.660477  0.624128  3016   2990  5008\n",
      "4  0.279711  0.311111  1.776662  0.639855  3188   2976  5664\n",
      "5  0.118221  0.073638  1.268142  0.559111  3886   4252  4928\n",
      "6  0.362236  0.452997  2.135957  0.681118  2236   1798  4776\n",
      "7  0.322399  0.352556  1.951589  0.661199  2644   2470  5160\n",
      "8  0.281563  0.285544  1.783820  0.640781  3016   2990  5380\n",
      "9  0.497220  0.562137  2.977881  0.748610  1718   1434  5116\n"
     ]
    }
   ],
   "source": [
    "vegitation_data = pd.DataFrame(vegitation_values,columns =['ndvi','gvi','rvi','ipvi','red','green','ir'])\n",
    "print(vegitation_data.head(10));"
   ]
  },
  {
   "cell_type": "code",
   "execution_count": 32,
   "id": "f84a19d0-4017-4b41-a443-1daa82fe65b7",
   "metadata": {},
   "outputs": [
    {
     "name": "stderr",
     "output_type": "stream",
     "text": [
      "100%|██████████| 600/600 [05:28<00:00,  1.83it/s]\n"
     ]
    }
   ],
   "source": [
    "## Function call to get the data at the harvesting time of march\n",
    "time_slice = \"2020-03-15/2020-03-30\"\n",
    "sec_vegitation_values = []\n",
    "for coordinates in tqdm(crop_presence_data['Latitude and Longitude']):\n",
    "    sec_vegitation_values.append(get_sentinel_data(coordinates,time_slice))\n"
   ]
  },
  {
   "cell_type": "code",
   "execution_count": 35,
   "id": "2fdc4b8c-029e-4121-8b96-8905952ed511",
   "metadata": {},
   "outputs": [
    {
     "name": "stdout",
     "output_type": "stream",
     "text": [
      "        ndvi1      gvi1      rvi1     ipvi1  red1  green1   ir1\n",
      "400  0.051510  0.112085  1.108614  0.525755  6408    5672  7104\n",
      "401  0.051510  0.112085  1.108614  0.525755  6408    5672  7104\n",
      "402  0.051510  0.112085  1.108614  0.525755  6408    5672  7104\n",
      "403  0.051510  0.112085  1.108614  0.525755  6408    5672  7104\n",
      "404  0.051510  0.112085  1.108614  0.525755  6408    5672  7104\n",
      "..        ...       ...       ...       ...   ...     ...   ...\n",
      "595  0.176584  0.166427  1.428907  0.588292  3404    3476  4864\n",
      "596  0.176584  0.166427  1.428907  0.588292  3404    3476  4864\n",
      "597  0.187589  0.177473  1.461810  0.593795  3404    3476  4976\n",
      "598  0.187589  0.177473  1.461810  0.593795  3404    3476  4976\n",
      "599  0.187589  0.177473  1.461810  0.593795  3404    3476  4976\n",
      "\n",
      "[200 rows x 7 columns]\n"
     ]
    }
   ],
   "source": [
    "vegitation_data1 = pd.DataFrame(sec_vegitation_values,columns=['ndvi1','gvi1','rvi1','ipvi1','red1','green1','ir1'])\n",
    "print(vegitation_data1.tail(200));"
   ]
  },
  {
   "cell_type": "code",
   "execution_count": 36,
   "id": "186794be-1222-43de-b773-830d59a14190",
   "metadata": {},
   "outputs": [
    {
     "name": "stderr",
     "output_type": "stream",
     "text": [
      " 13%|█▎        | 77/600 [01:14<08:36,  1.01it/s]/srv/conda/envs/notebook/lib/python3.10/site-packages/rasterio/warp.py:346: NotGeoreferencedWarning: Dataset has no geotransform, gcps, or rpcs. The identity matrix will be returned.\n",
      "  _reproject(\n",
      "100%|██████████| 600/600 [09:34<00:00,  1.04it/s]\n"
     ]
    }
   ],
   "source": [
    "## Function call to get the data at the non harvesting time of September \n",
    "time_slice = \"2020-04-1/2020-04-1\"\n",
    "vegitation_values_2 = []\n",
    "for coordinates in tqdm(crop_presence_data['Latitude and Longitude']):\n",
    "    vegitation_values_2.append(get_sentinel_data(coordinates,time_slice))\n"
   ]
  },
  {
   "cell_type": "code",
   "execution_count": 37,
   "id": "d9d008cc-1833-416a-8d2c-e2557b1ed01d",
   "metadata": {},
   "outputs": [
    {
     "name": "stdout",
     "output_type": "stream",
     "text": [
      "        ndvi2      gvi2      rvi2     ipvi2  red2  green2   ir2\n",
      "400  0.073069  0.089272  1.157658  0.536534  3552    3438  4112\n",
      "401  0.117859  0.122481  1.267211  0.558929  3428    3396  4344\n",
      "402  0.043980  0.079467  1.092007  0.521990  4304    4008  4700\n",
      "403  0.194170  0.198679  1.481914  0.597085  3428    3396  5080\n",
      "404  0.082694  0.117958  1.180297  0.541347  4304    4008  5080\n",
      "..        ...       ...       ...       ...   ...     ...   ...\n",
      "595  0.075261  0.149788  1.162773  0.537631  5136    4416  5972\n",
      "596  0.075261  0.135793  1.162773  0.537631  5136    4544  5972\n",
      "597  0.075261  0.135793  1.162773  0.537631  5136    4544  5972\n",
      "598  0.075261  0.135793  1.162773  0.537631  5136    4544  5972\n",
      "599  0.075261  0.135793  1.162773  0.537631  5136    4544  5972\n",
      "\n",
      "[200 rows x 7 columns]\n"
     ]
    }
   ],
   "source": [
    "vegitation_data2 = pd.DataFrame(vegitation_values_2,columns =['ndvi2','gvi2','rvi2','ipvi2','red2','green2','ir2'])\n",
    "print(vegitation_data2.tail(200));"
   ]
  },
  {
   "cell_type": "code",
   "execution_count": 42,
   "id": "873fbd5a-1847-485f-b94d-5325f4c89cca",
   "metadata": {},
   "outputs": [],
   "source": [
    "#function to combine multiple datasets into one\n",
    "def combine_four_datasets(dataset1,dataset2,dataset3,dataset4):\n",
    "    data = pd.concat([dataset1,dataset2,dataset3,dataset4], axis=1)\n",
    "    return data"
   ]
  },
  {
   "cell_type": "code",
   "execution_count": 43,
   "id": "8b0c783c-de40-4856-9273-c4676bd14f8d",
   "metadata": {},
   "outputs": [
    {
     "data": {
      "text/html": [
       "<div>\n",
       "<style scoped>\n",
       "    .dataframe tbody tr th:only-of-type {\n",
       "        vertical-align: middle;\n",
       "    }\n",
       "\n",
       "    .dataframe tbody tr th {\n",
       "        vertical-align: top;\n",
       "    }\n",
       "\n",
       "    .dataframe thead th {\n",
       "        text-align: right;\n",
       "    }\n",
       "</style>\n",
       "<table border=\"1\" class=\"dataframe\">\n",
       "  <thead>\n",
       "    <tr style=\"text-align: right;\">\n",
       "      <th></th>\n",
       "      <th>Latitude and Longitude</th>\n",
       "      <th>Class of Land</th>\n",
       "      <th>ndvi</th>\n",
       "      <th>gvi</th>\n",
       "      <th>rvi</th>\n",
       "      <th>ipvi</th>\n",
       "      <th>red</th>\n",
       "      <th>green</th>\n",
       "      <th>ir</th>\n",
       "      <th>ndvi1</th>\n",
       "      <th>...</th>\n",
       "      <th>red1</th>\n",
       "      <th>green1</th>\n",
       "      <th>ir1</th>\n",
       "      <th>ndvi2</th>\n",
       "      <th>gvi2</th>\n",
       "      <th>rvi2</th>\n",
       "      <th>ipvi2</th>\n",
       "      <th>red2</th>\n",
       "      <th>green2</th>\n",
       "      <th>ir2</th>\n",
       "    </tr>\n",
       "  </thead>\n",
       "  <tbody>\n",
       "    <tr>\n",
       "      <th>0</th>\n",
       "      <td>(10.323727047081501, 105.2516346045924)</td>\n",
       "      <td>Rice</td>\n",
       "      <td>0.263312</td>\n",
       "      <td>0.267336</td>\n",
       "      <td>1.714854</td>\n",
       "      <td>0.631656</td>\n",
       "      <td>3016</td>\n",
       "      <td>2990</td>\n",
       "      <td>5172</td>\n",
       "      <td>0.329649</td>\n",
       "      <td>...</td>\n",
       "      <td>2426</td>\n",
       "      <td>1864</td>\n",
       "      <td>4812</td>\n",
       "      <td>0.168179</td>\n",
       "      <td>0.210177</td>\n",
       "      <td>1.404365</td>\n",
       "      <td>0.584090</td>\n",
       "      <td>3116</td>\n",
       "      <td>2856</td>\n",
       "      <td>4376</td>\n",
       "    </tr>\n",
       "    <tr>\n",
       "      <th>1</th>\n",
       "      <td>(10.322364360592521, 105.27843410554115)</td>\n",
       "      <td>Rice</td>\n",
       "      <td>0.329077</td>\n",
       "      <td>0.345265</td>\n",
       "      <td>1.980966</td>\n",
       "      <td>0.664538</td>\n",
       "      <td>2732</td>\n",
       "      <td>2634</td>\n",
       "      <td>5412</td>\n",
       "      <td>0.145934</td>\n",
       "      <td>...</td>\n",
       "      <td>3172</td>\n",
       "      <td>3342</td>\n",
       "      <td>4256</td>\n",
       "      <td>0.122388</td>\n",
       "      <td>0.142163</td>\n",
       "      <td>1.278912</td>\n",
       "      <td>0.561194</td>\n",
       "      <td>2940</td>\n",
       "      <td>2824</td>\n",
       "      <td>3760</td>\n",
       "    </tr>\n",
       "    <tr>\n",
       "      <th>2</th>\n",
       "      <td>(10.321455902933202, 105.25254306225168)</td>\n",
       "      <td>Rice</td>\n",
       "      <td>0.263312</td>\n",
       "      <td>0.267336</td>\n",
       "      <td>1.714854</td>\n",
       "      <td>0.631656</td>\n",
       "      <td>3016</td>\n",
       "      <td>2990</td>\n",
       "      <td>5172</td>\n",
       "      <td>0.246737</td>\n",
       "      <td>...</td>\n",
       "      <td>2366</td>\n",
       "      <td>2024</td>\n",
       "      <td>3916</td>\n",
       "      <td>0.168179</td>\n",
       "      <td>0.210177</td>\n",
       "      <td>1.404365</td>\n",
       "      <td>0.584090</td>\n",
       "      <td>3116</td>\n",
       "      <td>2856</td>\n",
       "      <td>4376</td>\n",
       "    </tr>\n",
       "    <tr>\n",
       "      <th>3</th>\n",
       "      <td>(10.324181275911162, 105.25118037576274)</td>\n",
       "      <td>Rice</td>\n",
       "      <td>0.248255</td>\n",
       "      <td>0.252313</td>\n",
       "      <td>1.660477</td>\n",
       "      <td>0.624128</td>\n",
       "      <td>3016</td>\n",
       "      <td>2990</td>\n",
       "      <td>5008</td>\n",
       "      <td>0.314754</td>\n",
       "      <td>...</td>\n",
       "      <td>2508</td>\n",
       "      <td>2082</td>\n",
       "      <td>4812</td>\n",
       "      <td>0.107675</td>\n",
       "      <td>0.150506</td>\n",
       "      <td>1.241335</td>\n",
       "      <td>0.553837</td>\n",
       "      <td>3116</td>\n",
       "      <td>2856</td>\n",
       "      <td>3868</td>\n",
       "    </tr>\n",
       "    <tr>\n",
       "      <th>4</th>\n",
       "      <td>(10.324635504740822, 105.27389181724476)</td>\n",
       "      <td>Rice</td>\n",
       "      <td>0.279711</td>\n",
       "      <td>0.311111</td>\n",
       "      <td>1.776662</td>\n",
       "      <td>0.639855</td>\n",
       "      <td>3188</td>\n",
       "      <td>2976</td>\n",
       "      <td>5664</td>\n",
       "      <td>0.113203</td>\n",
       "      <td>...</td>\n",
       "      <td>3486</td>\n",
       "      <td>3342</td>\n",
       "      <td>4376</td>\n",
       "      <td>0.074756</td>\n",
       "      <td>0.084449</td>\n",
       "      <td>1.161593</td>\n",
       "      <td>0.537378</td>\n",
       "      <td>3416</td>\n",
       "      <td>3350</td>\n",
       "      <td>3968</td>\n",
       "    </tr>\n",
       "    <tr>\n",
       "      <th>5</th>\n",
       "      <td>(10.323727047081501, 105.28070524968936)</td>\n",
       "      <td>Rice</td>\n",
       "      <td>0.118221</td>\n",
       "      <td>0.073638</td>\n",
       "      <td>1.268142</td>\n",
       "      <td>0.559111</td>\n",
       "      <td>3886</td>\n",
       "      <td>4252</td>\n",
       "      <td>4928</td>\n",
       "      <td>0.141755</td>\n",
       "      <td>...</td>\n",
       "      <td>3560</td>\n",
       "      <td>3526</td>\n",
       "      <td>4736</td>\n",
       "      <td>0.068356</td>\n",
       "      <td>0.100789</td>\n",
       "      <td>1.146743</td>\n",
       "      <td>0.534178</td>\n",
       "      <td>3162</td>\n",
       "      <td>2962</td>\n",
       "      <td>3626</td>\n",
       "    </tr>\n",
       "    <tr>\n",
       "      <th>6</th>\n",
       "      <td>(10.325089733570481, 105.23937042619212)</td>\n",
       "      <td>Rice</td>\n",
       "      <td>0.362236</td>\n",
       "      <td>0.452997</td>\n",
       "      <td>2.135957</td>\n",
       "      <td>0.681118</td>\n",
       "      <td>2236</td>\n",
       "      <td>1798</td>\n",
       "      <td>4776</td>\n",
       "      <td>0.353816</td>\n",
       "      <td>...</td>\n",
       "      <td>2608</td>\n",
       "      <td>2182</td>\n",
       "      <td>5464</td>\n",
       "      <td>0.308141</td>\n",
       "      <td>0.297685</td>\n",
       "      <td>1.890763</td>\n",
       "      <td>0.654071</td>\n",
       "      <td>2490</td>\n",
       "      <td>2548</td>\n",
       "      <td>4708</td>\n",
       "    </tr>\n",
       "    <tr>\n",
       "      <th>7</th>\n",
       "      <td>(10.324181275911162, 105.25390574874059)</td>\n",
       "      <td>Rice</td>\n",
       "      <td>0.322399</td>\n",
       "      <td>0.352556</td>\n",
       "      <td>1.951589</td>\n",
       "      <td>0.661199</td>\n",
       "      <td>2644</td>\n",
       "      <td>2470</td>\n",
       "      <td>5160</td>\n",
       "      <td>0.333709</td>\n",
       "      <td>...</td>\n",
       "      <td>2366</td>\n",
       "      <td>2024</td>\n",
       "      <td>4736</td>\n",
       "      <td>0.168179</td>\n",
       "      <td>0.210177</td>\n",
       "      <td>1.404365</td>\n",
       "      <td>0.584090</td>\n",
       "      <td>3116</td>\n",
       "      <td>2856</td>\n",
       "      <td>4376</td>\n",
       "    </tr>\n",
       "    <tr>\n",
       "      <th>8</th>\n",
       "      <td>(10.321001674103542, 105.24436694331814)</td>\n",
       "      <td>Rice</td>\n",
       "      <td>0.281563</td>\n",
       "      <td>0.285544</td>\n",
       "      <td>1.783820</td>\n",
       "      <td>0.640781</td>\n",
       "      <td>3016</td>\n",
       "      <td>2990</td>\n",
       "      <td>5380</td>\n",
       "      <td>0.354487</td>\n",
       "      <td>...</td>\n",
       "      <td>2604</td>\n",
       "      <td>1874</td>\n",
       "      <td>5464</td>\n",
       "      <td>0.213251</td>\n",
       "      <td>0.249023</td>\n",
       "      <td>1.542105</td>\n",
       "      <td>0.606625</td>\n",
       "      <td>2280</td>\n",
       "      <td>2114</td>\n",
       "      <td>3516</td>\n",
       "    </tr>\n",
       "    <tr>\n",
       "      <th>9</th>\n",
       "      <td>(10.321001674103542, 105.2416415703403)</td>\n",
       "      <td>Rice</td>\n",
       "      <td>0.497220</td>\n",
       "      <td>0.562137</td>\n",
       "      <td>2.977881</td>\n",
       "      <td>0.748610</td>\n",
       "      <td>1718</td>\n",
       "      <td>1434</td>\n",
       "      <td>5116</td>\n",
       "      <td>0.354487</td>\n",
       "      <td>...</td>\n",
       "      <td>2604</td>\n",
       "      <td>1874</td>\n",
       "      <td>5464</td>\n",
       "      <td>0.271205</td>\n",
       "      <td>0.245808</td>\n",
       "      <td>1.744256</td>\n",
       "      <td>0.635602</td>\n",
       "      <td>2002</td>\n",
       "      <td>2114</td>\n",
       "      <td>3492</td>\n",
       "    </tr>\n",
       "  </tbody>\n",
       "</table>\n",
       "<p>10 rows × 23 columns</p>\n",
       "</div>"
      ],
      "text/plain": [
       "                     Latitude and Longitude Class of Land      ndvi       gvi  \\\n",
       "0   (10.323727047081501, 105.2516346045924)          Rice  0.263312  0.267336   \n",
       "1  (10.322364360592521, 105.27843410554115)          Rice  0.329077  0.345265   \n",
       "2  (10.321455902933202, 105.25254306225168)          Rice  0.263312  0.267336   \n",
       "3  (10.324181275911162, 105.25118037576274)          Rice  0.248255  0.252313   \n",
       "4  (10.324635504740822, 105.27389181724476)          Rice  0.279711  0.311111   \n",
       "5  (10.323727047081501, 105.28070524968936)          Rice  0.118221  0.073638   \n",
       "6  (10.325089733570481, 105.23937042619212)          Rice  0.362236  0.452997   \n",
       "7  (10.324181275911162, 105.25390574874059)          Rice  0.322399  0.352556   \n",
       "8  (10.321001674103542, 105.24436694331814)          Rice  0.281563  0.285544   \n",
       "9   (10.321001674103542, 105.2416415703403)          Rice  0.497220  0.562137   \n",
       "\n",
       "        rvi      ipvi   red  green    ir     ndvi1  ...  red1  green1   ir1  \\\n",
       "0  1.714854  0.631656  3016   2990  5172  0.329649  ...  2426    1864  4812   \n",
       "1  1.980966  0.664538  2732   2634  5412  0.145934  ...  3172    3342  4256   \n",
       "2  1.714854  0.631656  3016   2990  5172  0.246737  ...  2366    2024  3916   \n",
       "3  1.660477  0.624128  3016   2990  5008  0.314754  ...  2508    2082  4812   \n",
       "4  1.776662  0.639855  3188   2976  5664  0.113203  ...  3486    3342  4376   \n",
       "5  1.268142  0.559111  3886   4252  4928  0.141755  ...  3560    3526  4736   \n",
       "6  2.135957  0.681118  2236   1798  4776  0.353816  ...  2608    2182  5464   \n",
       "7  1.951589  0.661199  2644   2470  5160  0.333709  ...  2366    2024  4736   \n",
       "8  1.783820  0.640781  3016   2990  5380  0.354487  ...  2604    1874  5464   \n",
       "9  2.977881  0.748610  1718   1434  5116  0.354487  ...  2604    1874  5464   \n",
       "\n",
       "      ndvi2      gvi2      rvi2     ipvi2  red2  green2   ir2  \n",
       "0  0.168179  0.210177  1.404365  0.584090  3116    2856  4376  \n",
       "1  0.122388  0.142163  1.278912  0.561194  2940    2824  3760  \n",
       "2  0.168179  0.210177  1.404365  0.584090  3116    2856  4376  \n",
       "3  0.107675  0.150506  1.241335  0.553837  3116    2856  3868  \n",
       "4  0.074756  0.084449  1.161593  0.537378  3416    3350  3968  \n",
       "5  0.068356  0.100789  1.146743  0.534178  3162    2962  3626  \n",
       "6  0.308141  0.297685  1.890763  0.654071  2490    2548  4708  \n",
       "7  0.168179  0.210177  1.404365  0.584090  3116    2856  4376  \n",
       "8  0.213251  0.249023  1.542105  0.606625  2280    2114  3516  \n",
       "9  0.271205  0.245808  1.744256  0.635602  2002    2114  3492  \n",
       "\n",
       "[10 rows x 23 columns]"
      ]
     },
     "execution_count": 43,
     "metadata": {},
     "output_type": "execute_result"
    }
   ],
   "source": [
    "#Combining datasets\n",
    "crop_data = combine_four_datasets(crop_presence_data,vegitation_data,vegitation_data1,vegitation_data2)\n",
    "crop_data.head(10)"
   ]
  },
  {
   "cell_type": "code",
   "execution_count": 44,
   "id": "d6af2824-f0cc-4e8b-8ba6-9d7fa122dd8e",
   "metadata": {},
   "outputs": [],
   "source": [
    "# removing coordinates from the crop_data dataframe\n",
    "crop_data = crop_data[['ndvi','gvi','rvi','ipvi','red','green','ir','ndvi1','gvi1','rvi1','ipvi1','red1','green1','ir1','ndvi2','gvi2','rvi2','ipvi2','red2','green2','ir2','Class of Land']]"
   ]
  },
  {
   "cell_type": "code",
   "execution_count": 51,
   "id": "f9f61725-6587-4ff9-a22d-5d0412826c89",
   "metadata": {},
   "outputs": [],
   "source": [
    "#fill nan values by means\n",
    "groups = crop_data.groupby('Class of Land')\n",
    "means = groups.mean()\n",
    "for value in crop_data.columns:\n",
    "    # Replace null values with the mean of the same class\n",
    "    if value !='Class of Land':\n",
    "        crop_data[value] = groups[value].apply(lambda x: x.fillna(0))\n"
   ]
  },
  {
   "cell_type": "code",
   "execution_count": 52,
   "id": "041f1bd6-8b8a-4625-8fa8-b77a84dff487",
   "metadata": {},
   "outputs": [
    {
     "name": "stdout",
     "output_type": "stream",
     "text": [
      "       ndvi       gvi       rvi      ipvi   red  green    ir     ndvi1  \\\n",
      "0  0.263312  0.267336  1.714854  0.631656  3016   2990  5172  0.329649   \n",
      "1  0.329077  0.345265  1.980966  0.664538  2732   2634  5412  0.145934   \n",
      "2  0.263312  0.267336  1.714854  0.631656  3016   2990  5172  0.246737   \n",
      "3  0.248255  0.252313  1.660477  0.624128  3016   2990  5008  0.314754   \n",
      "4  0.279711  0.311111  1.776662  0.639855  3188   2976  5664  0.113203   \n",
      "\n",
      "       gvi1      rvi1  ...  green1   ir1     ndvi2      gvi2      rvi2  \\\n",
      "0  0.441582  1.983512  ...    1864  4812  0.168179  0.210177  1.404365   \n",
      "1  0.120295  1.341740  ...    3342  4256  0.122388  0.142163  1.278912   \n",
      "2  0.318519  1.655114  ...    2024  3916  0.168179  0.210177  1.404365   \n",
      "3  0.395997  1.918660  ...    2082  4812  0.107675  0.150506  1.241335   \n",
      "4  0.133973  1.255307  ...    3342  4376  0.074756  0.084449  1.161593   \n",
      "\n",
      "      ipvi2  red2  green2   ir2  Class of Land  \n",
      "0  0.584090  3116    2856  4376           Rice  \n",
      "1  0.561194  2940    2824  3760           Rice  \n",
      "2  0.584090  3116    2856  4376           Rice  \n",
      "3  0.553837  3116    2856  3868           Rice  \n",
      "4  0.537378  3416    3350  3968           Rice  \n",
      "\n",
      "[5 rows x 22 columns]\n"
     ]
    }
   ],
   "source": [
    "print(crop_data.head())"
   ]
  },
  {
   "cell_type": "code",
   "execution_count": 53,
   "id": "f2a0ebb6-395d-4d16-b5a4-5fecde77dee7",
   "metadata": {},
   "outputs": [],
   "source": [
    "# training and testing splliting\n",
    "X = crop_data.drop(columns=['Class of Land']).values\n",
    "y = crop_data ['Class of Land'].values"
   ]
  },
  {
   "cell_type": "code",
   "execution_count": 54,
   "id": "f65e9fa0-3f77-40db-9ac8-7773376dcf03",
   "metadata": {},
   "outputs": [],
   "source": [
    "#Standardising the scale\n",
    "sc = StandardScaler()\n",
    "X_train = sc.fit_transform(X)"
   ]
  },
  {
   "cell_type": "code",
   "execution_count": 55,
   "id": "3df9c22d-caec-40fa-b7ed-a2f938d7de86",
   "metadata": {},
   "outputs": [
    {
     "name": "stdout",
     "output_type": "stream",
     "text": [
      "(21,)\n"
     ]
    }
   ],
   "source": [
    "print(X[0].shape)"
   ]
  },
  {
   "cell_type": "code",
   "execution_count": 56,
   "id": "2b78f0a6-3757-444f-86d8-db58018d15d4",
   "metadata": {},
   "outputs": [
    {
     "data": {
      "text/html": [
       "<style>#sk-container-id-1 {color: black;background-color: white;}#sk-container-id-1 pre{padding: 0;}#sk-container-id-1 div.sk-toggleable {background-color: white;}#sk-container-id-1 label.sk-toggleable__label {cursor: pointer;display: block;width: 100%;margin-bottom: 0;padding: 0.3em;box-sizing: border-box;text-align: center;}#sk-container-id-1 label.sk-toggleable__label-arrow:before {content: \"▸\";float: left;margin-right: 0.25em;color: #696969;}#sk-container-id-1 label.sk-toggleable__label-arrow:hover:before {color: black;}#sk-container-id-1 div.sk-estimator:hover label.sk-toggleable__label-arrow:before {color: black;}#sk-container-id-1 div.sk-toggleable__content {max-height: 0;max-width: 0;overflow: hidden;text-align: left;background-color: #f0f8ff;}#sk-container-id-1 div.sk-toggleable__content pre {margin: 0.2em;color: black;border-radius: 0.25em;background-color: #f0f8ff;}#sk-container-id-1 input.sk-toggleable__control:checked~div.sk-toggleable__content {max-height: 200px;max-width: 100%;overflow: auto;}#sk-container-id-1 input.sk-toggleable__control:checked~label.sk-toggleable__label-arrow:before {content: \"▾\";}#sk-container-id-1 div.sk-estimator input.sk-toggleable__control:checked~label.sk-toggleable__label {background-color: #d4ebff;}#sk-container-id-1 div.sk-label input.sk-toggleable__control:checked~label.sk-toggleable__label {background-color: #d4ebff;}#sk-container-id-1 input.sk-hidden--visually {border: 0;clip: rect(1px 1px 1px 1px);clip: rect(1px, 1px, 1px, 1px);height: 1px;margin: -1px;overflow: hidden;padding: 0;position: absolute;width: 1px;}#sk-container-id-1 div.sk-estimator {font-family: monospace;background-color: #f0f8ff;border: 1px dotted black;border-radius: 0.25em;box-sizing: border-box;margin-bottom: 0.5em;}#sk-container-id-1 div.sk-estimator:hover {background-color: #d4ebff;}#sk-container-id-1 div.sk-parallel-item::after {content: \"\";width: 100%;border-bottom: 1px solid gray;flex-grow: 1;}#sk-container-id-1 div.sk-label:hover label.sk-toggleable__label {background-color: #d4ebff;}#sk-container-id-1 div.sk-serial::before {content: \"\";position: absolute;border-left: 1px solid gray;box-sizing: border-box;top: 0;bottom: 0;left: 50%;z-index: 0;}#sk-container-id-1 div.sk-serial {display: flex;flex-direction: column;align-items: center;background-color: white;padding-right: 0.2em;padding-left: 0.2em;position: relative;}#sk-container-id-1 div.sk-item {position: relative;z-index: 1;}#sk-container-id-1 div.sk-parallel {display: flex;align-items: stretch;justify-content: center;background-color: white;position: relative;}#sk-container-id-1 div.sk-item::before, #sk-container-id-1 div.sk-parallel-item::before {content: \"\";position: absolute;border-left: 1px solid gray;box-sizing: border-box;top: 0;bottom: 0;left: 50%;z-index: -1;}#sk-container-id-1 div.sk-parallel-item {display: flex;flex-direction: column;z-index: 1;position: relative;background-color: white;}#sk-container-id-1 div.sk-parallel-item:first-child::after {align-self: flex-end;width: 50%;}#sk-container-id-1 div.sk-parallel-item:last-child::after {align-self: flex-start;width: 50%;}#sk-container-id-1 div.sk-parallel-item:only-child::after {width: 0;}#sk-container-id-1 div.sk-dashed-wrapped {border: 1px dashed gray;margin: 0 0.4em 0.5em 0.4em;box-sizing: border-box;padding-bottom: 0.4em;background-color: white;}#sk-container-id-1 div.sk-label label {font-family: monospace;font-weight: bold;display: inline-block;line-height: 1.2em;}#sk-container-id-1 div.sk-label-container {text-align: center;}#sk-container-id-1 div.sk-container {/* jupyter's `normalize.less` sets `[hidden] { display: none; }` but bootstrap.min.css set `[hidden] { display: none !important; }` so we also need the `!important` here to be able to override the default hidden behavior on the sphinx rendered scikit-learn.org. See: https://github.com/scikit-learn/scikit-learn/issues/21755 */display: inline-block !important;position: relative;}#sk-container-id-1 div.sk-text-repr-fallback {display: none;}</style><div id=\"sk-container-id-1\" class=\"sk-top-container\"><div class=\"sk-text-repr-fallback\"><pre>LogisticRegression()</pre><b>In a Jupyter environment, please rerun this cell to show the HTML representation or trust the notebook. <br />On GitHub, the HTML representation is unable to render, please try loading this page with nbviewer.org.</b></div><div class=\"sk-container\" hidden><div class=\"sk-item\"><div class=\"sk-estimator sk-toggleable\"><input class=\"sk-toggleable__control sk-hidden--visually\" id=\"sk-estimator-id-1\" type=\"checkbox\" checked><label for=\"sk-estimator-id-1\" class=\"sk-toggleable__label sk-toggleable__label-arrow\">LogisticRegression</label><div class=\"sk-toggleable__content\"><pre>LogisticRegression()</pre></div></div></div></div></div>"
      ],
      "text/plain": [
       "LogisticRegression()"
      ]
     },
     "execution_count": 56,
     "metadata": {},
     "output_type": "execute_result"
    }
   ],
   "source": [
    "#Using the Logistic Regression\n",
    "model = LogisticRegression(solver='lbfgs')\n",
    "model.fit(X_train,y)"
   ]
  },
  {
   "cell_type": "code",
   "execution_count": 57,
   "id": "1778519b-a90a-4620-9d2d-9e7b9e357ed0",
   "metadata": {},
   "outputs": [],
   "source": [
    "#Makiking Predictions\n",
    "insample_predictions = model.predict(X_train)"
   ]
  },
  {
   "cell_type": "code",
   "execution_count": 58,
   "id": "a3cd6705-5c7b-4568-91c8-9e2a507222dd",
   "metadata": {},
   "outputs": [
    {
     "ename": "NameError",
     "evalue": "name 'y_train' is not defined",
     "output_type": "error",
     "traceback": [
      "\u001b[0;31m---------------------------------------------------------------------------\u001b[0m",
      "\u001b[0;31mNameError\u001b[0m                                 Traceback (most recent call last)",
      "Cell \u001b[0;32mIn [58], line 2\u001b[0m\n\u001b[1;32m      1\u001b[0m \u001b[38;5;66;03m#getting Confustion Matrix\u001b[39;00m\n\u001b[0;32m----> 2\u001b[0m \u001b[38;5;28mprint\u001b[39m(\u001b[38;5;124m\"\u001b[39m\u001b[38;5;124mInsample Accuracy \u001b[39m\u001b[38;5;132;01m{0:.2f}\u001b[39;00m\u001b[38;5;124m%\u001b[39m\u001b[38;5;124m\"\u001b[39m\u001b[38;5;241m.\u001b[39mformat(\u001b[38;5;241m100\u001b[39m\u001b[38;5;241m*\u001b[39maccuracy_score(insample_predictions,\u001b[43my_train\u001b[49m)))\n\u001b[1;32m      3\u001b[0m \u001b[38;5;28mprint\u001b[39m(classification_report(insample_predictions,y_train))\n",
      "\u001b[0;31mNameError\u001b[0m: name 'y_train' is not defined"
     ]
    }
   ],
   "source": [
    "#getting Confustion Matrix\n",
    "print(\"Insample Accuracy {0:.2f}%\".format(100*accuracy_score(insample_predictions,y_train)))\n",
    "print(classification_report(insample_predictions,y_train))"
   ]
  },
  {
   "cell_type": "code",
   "execution_count": 305,
   "id": "934ec503-eb2c-4c03-b52d-2cea02d8df0b",
   "metadata": {},
   "outputs": [],
   "source": [
    "#Plotting the confusion Matrix\n",
    "def plot_confusion_matrix(true_value,predicted_value,title,labels):\n",
    "    '''\n",
    "    Plots a confusion matrix.\n",
    "    Attributes:\n",
    "    true_value - The ground truth value for comparision.\n",
    "    predicted_value - The values predicted by the model.\n",
    "    title - Title of the plot.\n",
    "    labels - The x and y labels of the plot.\n",
    "    '''\n",
    "    cm = confusion_matrix(true_value,predicted_value)\n",
    "    ax= plt.subplot()\n",
    "    sns.heatmap(cm, annot=True, fmt='g', ax=ax, cmap='Blues');\n",
    "    ax.set_xlabel('Predicted labels');\n",
    "    ax.set_ylabel('True labels'); \n",
    "    ax.set_title(title); \n",
    "    ax.xaxis.set_ticklabels(labels); \n",
    "    ax.yaxis.set_ticklabels(labels);"
   ]
  },
  {
   "cell_type": "code",
   "execution_count": 306,
   "id": "6c97128a-1b76-4144-b7c6-b9cfe1f30971",
   "metadata": {},
   "outputs": [
    {
     "data": {
      "image/png": "[encoded data removed]",
      "text/plain": [
       "<Figure size 640x480 with 2 Axes>"
      ]
     },
     "metadata": {},
     "output_type": "display_data"
    }
   ],
   "source": [
    "plot_confusion_matrix(y_train,insample_predictions,\"Model Level 1: Logistic\\nRegression Model In-Sample Results\",['Rice', 'Non Rice'])"
   ]
  },
  {
   "cell_type": "code",
   "execution_count": 307,
   "id": "3c9a7f63-30fd-4f79-92be-ada79a8d79b2",
   "metadata": {},
   "outputs": [],
   "source": [
    "outsample_predictions = model.predict(X_test)"
   ]
  },
  {
   "cell_type": "code",
   "execution_count": 309,
   "id": "87fc3d93-b385-4262-aa38-6bc36389c5ff",
   "metadata": {},
   "outputs": [
    {
     "name": "stdout",
     "output_type": "stream",
     "text": [
      "Accuracy 100.00%\n",
      "              precision    recall  f1-score   support\n",
      "\n",
      "    Non Rice       1.00      1.00      1.00        90\n",
      "        Rice       1.00      1.00      1.00        90\n",
      "\n",
      "    accuracy                           1.00       180\n",
      "   macro avg       1.00      1.00      1.00       180\n",
      "weighted avg       1.00      1.00      1.00       180\n",
      "\n"
     ]
    }
   ],
   "source": [
    "print(\"Accuracy {0:.2f}%\".format(100*accuracy_score(outsample_predictions, y_test)))\n",
    "print(classification_report(y_test, outsample_predictions))"
   ]
  },
  {
   "cell_type": "code",
   "execution_count": 310,
   "id": "2c0c0fd1-8258-4da1-84ee-4e9d31f03f47",
   "metadata": {},
   "outputs": [
    {
     "data": {
      "image/png": "[encoded data removed]",
      "text/plain": [
       "<Figure size 640x480 with 2 Axes>"
      ]
     },
     "metadata": {},
     "output_type": "display_data"
    }
   ],
   "source": [
    "plot_confusion_matrix(y_test, outsample_predictions,\"Model Level 1: Logistic\\nRegression Model Out-Sample Results\",['Rice', 'Non Rice'])"
   ]
  },
  {
   "cell_type": "code",
   "execution_count": 59,
   "id": "6dea1280-41ab-4259-ac0f-8f3cab3bca39",
   "metadata": {},
   "outputs": [],
   "source": [
    "#Reading the coordinates for the submission\n",
    "test_file = pd.read_csv('challenge_1_submission_template.csv')\n",
    "test_file.head()\n",
    "coordinates=test_file['id']"
   ]
  },
  {
   "cell_type": "code",
   "execution_count": 60,
   "id": "0663e568-df88-4559-a019-0a68b505e2e1",
   "metadata": {},
   "outputs": [
    {
     "name": "stderr",
     "output_type": "stream",
     "text": [
      "100%|██████████| 250/250 [57:17<00:00, 13.75s/it] \n"
     ]
    }
   ],
   "source": [
    "## Function call to get the data at the harvesting time of September \n",
    "time_slice = \"2020-9-15/2020-9-15\"\n",
    "test_values = []\n",
    "for coordinates in tqdm(test_file['id']):\n",
    "    test_values.append(get_sentinel_data(coordinates,time_slice))\n"
   ]
  },
  {
   "cell_type": "code",
   "execution_count": 61,
   "id": "0c3a4f31-b07d-49f0-b151-b42b97168f27",
   "metadata": {},
   "outputs": [
    {
     "name": "stdout",
     "output_type": "stream",
     "text": [
      "       ndvi       gvi       rvi      ipvi   red  green    ir\n",
      "0  0.316376  0.249861  1.925587  0.658188  3494   4038  6728\n",
      "1  0.545100  0.496228  3.396574  0.772550  1518   1736  5156\n",
      "2  0.445061  0.481229  2.604000  0.722531  1500   1368  3906\n",
      "3  0.133103  0.113376  1.307079  0.566551  4012   4176  5244\n",
      "4  0.382506  0.410856  2.238897  0.691253  2612   2442  5848\n",
      "5  5.983150  0.000373  0.964029  0.490842  5560   5356  5360\n",
      "6  0.428330  0.417773  2.498520  0.714165  3378   3466  8440\n",
      "7  0.192077  0.181440  1.475483  0.596038  2692   2752  3972\n",
      "8  0.133103  0.113376  1.307079  0.566551  4012   4176  5244\n",
      "9  0.321360  0.323482  1.947070  0.660680  2116   2106  4120\n"
     ]
    }
   ],
   "source": [
    "test_data = pd.DataFrame(test_values,columns =['ndvi','gvi','rvi','ipvi','red','green','ir'])\n",
    "print(test_data.head(10));"
   ]
  },
  {
   "cell_type": "code",
   "execution_count": 62,
   "id": "af6bb605-c436-444c-bb96-56bf50c964a1",
   "metadata": {},
   "outputs": [
    {
     "name": "stderr",
     "output_type": "stream",
     "text": [
      "100%|██████████| 250/250 [02:52<00:00,  1.45it/s]\n"
     ]
    }
   ],
   "source": [
    "## Function call to get the data at the harvesting time of march\n",
    "time_slice = \"2020-03-15/2020-03-30\"\n",
    "test_values_2 = []\n",
    "for coordinates in tqdm(test_file['id']):\n",
    "    test_values_2.append(get_sentinel_data(coordinates,time_slice))\n"
   ]
  },
  {
   "cell_type": "code",
   "execution_count": 63,
   "id": "bcfadd43-33a9-4b8b-9b0d-2ad86ec93d01",
   "metadata": {},
   "outputs": [
    {
     "name": "stdout",
     "output_type": "stream",
     "text": [
      "      ndvi1      gvi1      rvi1     ipvi1  red1  green1   ir1\n",
      "0       NaN       NaN       NaN       NaN     0       0     0\n",
      "1  0.383678  0.439341  2.245059  0.691839  2024    1770  4544\n",
      "2  0.481609  0.520047  2.858093  0.740805  1804    1628  5156\n",
      "3  0.213043  0.243870  1.541436  0.606522  3620    3392  5580\n",
      "4       NaN       NaN       NaN       NaN     0       0     0\n",
      "5  0.034627  0.056218  1.071737  0.517313  4628    4432  4960\n",
      "6  0.266786  0.267469  1.727718  0.633393  4084    4078  7056\n",
      "7  0.263631  0.234723  1.716028  0.631815  2296    2442  3940\n",
      "8  0.213043  0.243870  1.541436  0.606522  3620    3392  5580\n",
      "9  0.444703  0.430960  2.601677  0.722352  1908    1974  4964\n"
     ]
    }
   ],
   "source": [
    "test_data_2 = pd.DataFrame(test_values_2,columns =['ndvi1','gvi1','rvi1','ipvi1','red1','green1','ir1'])\n",
    "print(test_data_2.head(10));"
   ]
  },
  {
   "cell_type": "code",
   "execution_count": 64,
   "id": "27b4456b-8f75-4415-befb-f9a560c6766a",
   "metadata": {},
   "outputs": [
    {
     "name": "stderr",
     "output_type": "stream",
     "text": [
      "100%|██████████| 250/250 [04:57<00:00,  1.19s/it]\n"
     ]
    }
   ],
   "source": [
    "## Function call to get the data at the non harvesting time of September \n",
    "time_slice = \"2020-04-1/2020-04-1\"\n",
    "test_values_3 = []\n",
    "for coordinates in tqdm(test_file['id']):\n",
    "    test_values_3.append(get_sentinel_data(coordinates,time_slice))\n"
   ]
  },
  {
   "cell_type": "code",
   "execution_count": 65,
   "id": "da2e717d-35ce-4a5c-b827-d83b7dd8d949",
   "metadata": {},
   "outputs": [
    {
     "name": "stdout",
     "output_type": "stream",
     "text": [
      "      ndvi2      gvi2      rvi2     ipvi2  red2  green2   ir2\n",
      "0  0.243562  0.240899  1.643972  0.621781  2820    2836  4636\n",
      "1  0.232252  0.261355  1.605020  0.616126  3028    2846  4860\n",
      "2  0.424709  0.461935  2.476503  0.712355  1830    1668  4532\n",
      "3  0.105613  0.124296  1.236168  0.552806  4844    4664  5988\n",
      "4  0.264187  0.245253  1.718081  0.632093  2710    2822  4656\n",
      "5  0.092540  0.118998  1.203953  0.546270  4452    4220  5360\n",
      "6  0.297340  0.312228  1.846325  0.648670  3592    3476  6632\n",
      "7  0.151630  0.203653  1.357461  0.575815  3592    3226  4876\n",
      "8  0.105613  0.124296  1.236168  0.552806  4844    4664  5988\n",
      "9  0.067431  0.099160  1.144612  0.533715  4232    3970  4844\n"
     ]
    }
   ],
   "source": [
    "test_data_3 = pd.DataFrame(test_values_3,columns =['ndvi2','gvi2','rvi2','ipvi2','red2','green2','ir2'])\n",
    "print(test_data_3.head(10));"
   ]
  },
  {
   "cell_type": "code",
   "execution_count": 66,
   "id": "84e07513-6680-4950-accc-60c8d2f435da",
   "metadata": {},
   "outputs": [
    {
     "data": {
      "text/plain": [
       "<bound method DataFrame.info of          ndvi       gvi       rvi      ipvi   red  green    ir\n",
       "0    0.316376  0.249861  1.925587  0.658188  3494   4038  6728\n",
       "1    0.545100  0.496228  3.396574  0.772550  1518   1736  5156\n",
       "2    0.445061  0.481229  2.604000  0.722531  1500   1368  3906\n",
       "3    0.133103  0.113376  1.307079  0.566551  4012   4176  5244\n",
       "4    0.382506  0.410856  2.238897  0.691253  2612   2442  5848\n",
       "..        ...       ...       ...       ...   ...    ...   ...\n",
       "245  0.023956  0.071337  1.049087  0.511978  6356   5780  6668\n",
       "246  0.133103  0.113376  1.307079  0.566551  4012   4176  5244\n",
       "247  0.133103  0.113376  1.307079  0.566551  4012   4176  5244\n",
       "248  0.317379  0.364414  1.929883  0.658689  2396   2154  4624\n",
       "249  0.297128  0.282395  1.845468  0.648564  2692   2780  4968\n",
       "\n",
       "[250 rows x 7 columns]>"
      ]
     },
     "execution_count": 66,
     "metadata": {},
     "output_type": "execute_result"
    }
   ],
   "source": [
    "test_data.info"
   ]
  },
  {
   "cell_type": "code",
   "execution_count": 67,
   "id": "0d26a7fa-68a3-496f-ab9b-306ca1404d9a",
   "metadata": {},
   "outputs": [],
   "source": [
    "def combine_three_datasets(dataset1,dataset2,dataset3):\n",
    "    data = pd.concat([dataset1,dataset2,dataset3], axis=1)\n",
    "    return data"
   ]
  },
  {
   "cell_type": "code",
   "execution_count": 68,
   "id": "811d091a-235e-411f-a32d-82bfad14adf7",
   "metadata": {},
   "outputs": [
    {
     "data": {
      "text/html": [
       "<div>\n",
       "<style scoped>\n",
       "    .dataframe tbody tr th:only-of-type {\n",
       "        vertical-align: middle;\n",
       "    }\n",
       "\n",
       "    .dataframe tbody tr th {\n",
       "        vertical-align: top;\n",
       "    }\n",
       "\n",
       "    .dataframe thead th {\n",
       "        text-align: right;\n",
       "    }\n",
       "</style>\n",
       "<table border=\"1\" class=\"dataframe\">\n",
       "  <thead>\n",
       "    <tr style=\"text-align: right;\">\n",
       "      <th></th>\n",
       "      <th>ndvi</th>\n",
       "      <th>gvi</th>\n",
       "      <th>rvi</th>\n",
       "      <th>ipvi</th>\n",
       "      <th>red</th>\n",
       "      <th>green</th>\n",
       "      <th>ir</th>\n",
       "      <th>ndvi1</th>\n",
       "      <th>gvi1</th>\n",
       "      <th>rvi1</th>\n",
       "      <th>...</th>\n",
       "      <th>red1</th>\n",
       "      <th>green1</th>\n",
       "      <th>ir1</th>\n",
       "      <th>ndvi2</th>\n",
       "      <th>gvi2</th>\n",
       "      <th>rvi2</th>\n",
       "      <th>ipvi2</th>\n",
       "      <th>red2</th>\n",
       "      <th>green2</th>\n",
       "      <th>ir2</th>\n",
       "    </tr>\n",
       "  </thead>\n",
       "  <tbody>\n",
       "    <tr>\n",
       "      <th>0</th>\n",
       "      <td>0.316376</td>\n",
       "      <td>0.249861</td>\n",
       "      <td>1.925587</td>\n",
       "      <td>0.658188</td>\n",
       "      <td>3494</td>\n",
       "      <td>4038</td>\n",
       "      <td>6728</td>\n",
       "      <td>NaN</td>\n",
       "      <td>NaN</td>\n",
       "      <td>NaN</td>\n",
       "      <td>...</td>\n",
       "      <td>0</td>\n",
       "      <td>0</td>\n",
       "      <td>0</td>\n",
       "      <td>0.243562</td>\n",
       "      <td>0.240899</td>\n",
       "      <td>1.643972</td>\n",
       "      <td>0.621781</td>\n",
       "      <td>2820</td>\n",
       "      <td>2836</td>\n",
       "      <td>4636</td>\n",
       "    </tr>\n",
       "    <tr>\n",
       "      <th>1</th>\n",
       "      <td>0.545100</td>\n",
       "      <td>0.496228</td>\n",
       "      <td>3.396574</td>\n",
       "      <td>0.772550</td>\n",
       "      <td>1518</td>\n",
       "      <td>1736</td>\n",
       "      <td>5156</td>\n",
       "      <td>0.383678</td>\n",
       "      <td>0.439341</td>\n",
       "      <td>2.245059</td>\n",
       "      <td>...</td>\n",
       "      <td>2024</td>\n",
       "      <td>1770</td>\n",
       "      <td>4544</td>\n",
       "      <td>0.232252</td>\n",
       "      <td>0.261355</td>\n",
       "      <td>1.605020</td>\n",
       "      <td>0.616126</td>\n",
       "      <td>3028</td>\n",
       "      <td>2846</td>\n",
       "      <td>4860</td>\n",
       "    </tr>\n",
       "    <tr>\n",
       "      <th>2</th>\n",
       "      <td>0.445061</td>\n",
       "      <td>0.481229</td>\n",
       "      <td>2.604000</td>\n",
       "      <td>0.722531</td>\n",
       "      <td>1500</td>\n",
       "      <td>1368</td>\n",
       "      <td>3906</td>\n",
       "      <td>0.481609</td>\n",
       "      <td>0.520047</td>\n",
       "      <td>2.858093</td>\n",
       "      <td>...</td>\n",
       "      <td>1804</td>\n",
       "      <td>1628</td>\n",
       "      <td>5156</td>\n",
       "      <td>0.424709</td>\n",
       "      <td>0.461935</td>\n",
       "      <td>2.476503</td>\n",
       "      <td>0.712355</td>\n",
       "      <td>1830</td>\n",
       "      <td>1668</td>\n",
       "      <td>4532</td>\n",
       "    </tr>\n",
       "    <tr>\n",
       "      <th>3</th>\n",
       "      <td>0.133103</td>\n",
       "      <td>0.113376</td>\n",
       "      <td>1.307079</td>\n",
       "      <td>0.566551</td>\n",
       "      <td>4012</td>\n",
       "      <td>4176</td>\n",
       "      <td>5244</td>\n",
       "      <td>0.213043</td>\n",
       "      <td>0.243870</td>\n",
       "      <td>1.541436</td>\n",
       "      <td>...</td>\n",
       "      <td>3620</td>\n",
       "      <td>3392</td>\n",
       "      <td>5580</td>\n",
       "      <td>0.105613</td>\n",
       "      <td>0.124296</td>\n",
       "      <td>1.236168</td>\n",
       "      <td>0.552806</td>\n",
       "      <td>4844</td>\n",
       "      <td>4664</td>\n",
       "      <td>5988</td>\n",
       "    </tr>\n",
       "    <tr>\n",
       "      <th>4</th>\n",
       "      <td>0.382506</td>\n",
       "      <td>0.410856</td>\n",
       "      <td>2.238897</td>\n",
       "      <td>0.691253</td>\n",
       "      <td>2612</td>\n",
       "      <td>2442</td>\n",
       "      <td>5848</td>\n",
       "      <td>NaN</td>\n",
       "      <td>NaN</td>\n",
       "      <td>NaN</td>\n",
       "      <td>...</td>\n",
       "      <td>0</td>\n",
       "      <td>0</td>\n",
       "      <td>0</td>\n",
       "      <td>0.264187</td>\n",
       "      <td>0.245253</td>\n",
       "      <td>1.718081</td>\n",
       "      <td>0.632093</td>\n",
       "      <td>2710</td>\n",
       "      <td>2822</td>\n",
       "      <td>4656</td>\n",
       "    </tr>\n",
       "  </tbody>\n",
       "</table>\n",
       "<p>5 rows × 21 columns</p>\n",
       "</div>"
      ],
      "text/plain": [
       "       ndvi       gvi       rvi      ipvi   red  green    ir     ndvi1  \\\n",
       "0  0.316376  0.249861  1.925587  0.658188  3494   4038  6728       NaN   \n",
       "1  0.545100  0.496228  3.396574  0.772550  1518   1736  5156  0.383678   \n",
       "2  0.445061  0.481229  2.604000  0.722531  1500   1368  3906  0.481609   \n",
       "3  0.133103  0.113376  1.307079  0.566551  4012   4176  5244  0.213043   \n",
       "4  0.382506  0.410856  2.238897  0.691253  2612   2442  5848       NaN   \n",
       "\n",
       "       gvi1      rvi1  ...  red1  green1   ir1     ndvi2      gvi2      rvi2  \\\n",
       "0       NaN       NaN  ...     0       0     0  0.243562  0.240899  1.643972   \n",
       "1  0.439341  2.245059  ...  2024    1770  4544  0.232252  0.261355  1.605020   \n",
       "2  0.520047  2.858093  ...  1804    1628  5156  0.424709  0.461935  2.476503   \n",
       "3  0.243870  1.541436  ...  3620    3392  5580  0.105613  0.124296  1.236168   \n",
       "4       NaN       NaN  ...     0       0     0  0.264187  0.245253  1.718081   \n",
       "\n",
       "      ipvi2  red2  green2   ir2  \n",
       "0  0.621781  2820    2836  4636  \n",
       "1  0.616126  3028    2846  4860  \n",
       "2  0.712355  1830    1668  4532  \n",
       "3  0.552806  4844    4664  5988  \n",
       "4  0.632093  2710    2822  4656  \n",
       "\n",
       "[5 rows x 21 columns]"
      ]
     },
     "execution_count": 68,
     "metadata": {},
     "output_type": "execute_result"
    }
   ],
   "source": [
    "test_data_comb = combine_three_datasets(test_data,test_data_2,test_data_3)\n",
    "test_data_comb.head()"
   ]
  },
  {
   "cell_type": "code",
   "execution_count": 69,
   "id": "81bcdc4a-d9a4-4fc8-994c-3757c9f33200",
   "metadata": {},
   "outputs": [],
   "source": [
    "#fill nan values by means\n",
    "for value in test_data_comb.columns:\n",
    "    # Replace null values with the mean of the same class\n",
    "    test_data_comb[value] = test_data_comb[value].fillna(value=0)"
   ]
  },
  {
   "cell_type": "code",
   "execution_count": 70,
   "id": "b08906ef-fd81-4b0b-8ec1-d9531d931738",
   "metadata": {},
   "outputs": [],
   "source": [
    "# Feature Scaling \n",
    "test_values = test_data_comb.values\n",
    "\n",
    "transformed_submission_data = sc.transform(test_values)"
   ]
  },
  {
   "cell_type": "code",
   "execution_count": 71,
   "id": "b9e795a5-9635-44c8-a42d-4841f266bbd4",
   "metadata": {},
   "outputs": [
    {
     "name": "stdout",
     "output_type": "stream",
     "text": [
      "5250\n"
     ]
    }
   ],
   "source": [
    "print(transformed_submission_data.size)"
   ]
  },
  {
   "cell_type": "code",
   "execution_count": 72,
   "id": "9fbc76dd-8320-4c41-8352-1895abee074a",
   "metadata": {},
   "outputs": [],
   "source": [
    "#Making predictions\n",
    "final_predictions = model.predict(transformed_submission_data)\n",
    "final_prediction_series = pd.Series(final_predictions)\n"
   ]
  },
  {
   "cell_type": "code",
   "execution_count": 73,
   "id": "8e75dc2b-9910-4ecf-8aa3-3c4e217d1a46",
   "metadata": {},
   "outputs": [
    {
     "name": "stdout",
     "output_type": "stream",
     "text": [
      "250\n"
     ]
    }
   ],
   "source": [
    "print(final_prediction_series.size)"
   ]
  },
  {
   "cell_type": "code",
   "execution_count": 74,
   "id": "7c1bf680-c052-4d43-998c-8818d47aa2bb",
   "metadata": {},
   "outputs": [
    {
     "name": "stdout",
     "output_type": "stream",
     "text": [
      "250\n"
     ]
    }
   ],
   "source": [
    "print(test_file['id'].size)"
   ]
  },
  {
   "cell_type": "code",
   "execution_count": 75,
   "id": "467ed2c5-2f74-44d5-8cb3-ff5754deae22",
   "metadata": {},
   "outputs": [],
   "source": [
    "#Combining the results into dataframe\n",
    "submission_df = pd.DataFrame({'Latitude and Longitude':test_file['id'].values, 'Class of Land':final_prediction_series.values})"
   ]
  },
  {
   "cell_type": "code",
   "execution_count": 76,
   "id": "7acae0ed-66cc-45d9-8034-8f64de2ff416",
   "metadata": {},
   "outputs": [
    {
     "data": {
      "text/html": [
       "<div>\n",
       "<style scoped>\n",
       "    .dataframe tbody tr th:only-of-type {\n",
       "        vertical-align: middle;\n",
       "    }\n",
       "\n",
       "    .dataframe tbody tr th {\n",
       "        vertical-align: top;\n",
       "    }\n",
       "\n",
       "    .dataframe thead th {\n",
       "        text-align: right;\n",
       "    }\n",
       "</style>\n",
       "<table border=\"1\" class=\"dataframe\">\n",
       "  <thead>\n",
       "    <tr style=\"text-align: right;\">\n",
       "      <th></th>\n",
       "      <th>Latitude and Longitude</th>\n",
       "      <th>Class of Land</th>\n",
       "    </tr>\n",
       "  </thead>\n",
       "  <tbody>\n",
       "    <tr>\n",
       "      <th>0</th>\n",
       "      <td>(10.18019073690894, 105.32022315786804)</td>\n",
       "      <td>Non Rice</td>\n",
       "    </tr>\n",
       "    <tr>\n",
       "      <th>1</th>\n",
       "      <td>(10.561107033461816, 105.12772097986661)</td>\n",
       "      <td>Rice</td>\n",
       "    </tr>\n",
       "    <tr>\n",
       "      <th>2</th>\n",
       "      <td>(10.623790611954897, 105.13771401411867)</td>\n",
       "      <td>Rice</td>\n",
       "    </tr>\n",
       "    <tr>\n",
       "      <th>3</th>\n",
       "      <td>(10.583364246115156, 105.23946127195805)</td>\n",
       "      <td>Rice</td>\n",
       "    </tr>\n",
       "    <tr>\n",
       "      <th>4</th>\n",
       "      <td>(10.20744446668854, 105.26844107128906)</td>\n",
       "      <td>Non Rice</td>\n",
       "    </tr>\n",
       "    <tr>\n",
       "      <th>...</th>\n",
       "      <td>...</td>\n",
       "      <td>...</td>\n",
       "    </tr>\n",
       "    <tr>\n",
       "      <th>245</th>\n",
       "      <td>(10.308283266873062, 105.50872812216863)</td>\n",
       "      <td>Rice</td>\n",
       "    </tr>\n",
       "    <tr>\n",
       "      <th>246</th>\n",
       "      <td>(10.582910017285496, 105.23991550078767)</td>\n",
       "      <td>Rice</td>\n",
       "    </tr>\n",
       "    <tr>\n",
       "      <th>247</th>\n",
       "      <td>(10.581547330796518, 105.23991550078767)</td>\n",
       "      <td>Rice</td>\n",
       "    </tr>\n",
       "    <tr>\n",
       "      <th>248</th>\n",
       "      <td>(10.629241357910818, 105.15315779432643)</td>\n",
       "      <td>Rice</td>\n",
       "    </tr>\n",
       "    <tr>\n",
       "      <th>249</th>\n",
       "      <td>(10.574733898351617, 105.10410108072531)</td>\n",
       "      <td>Non Rice</td>\n",
       "    </tr>\n",
       "  </tbody>\n",
       "</table>\n",
       "<p>250 rows × 2 columns</p>\n",
       "</div>"
      ],
      "text/plain": [
       "                       Latitude and Longitude Class of Land\n",
       "0     (10.18019073690894, 105.32022315786804)      Non Rice\n",
       "1    (10.561107033461816, 105.12772097986661)          Rice\n",
       "2    (10.623790611954897, 105.13771401411867)          Rice\n",
       "3    (10.583364246115156, 105.23946127195805)          Rice\n",
       "4     (10.20744446668854, 105.26844107128906)      Non Rice\n",
       "..                                        ...           ...\n",
       "245  (10.308283266873062, 105.50872812216863)          Rice\n",
       "246  (10.582910017285496, 105.23991550078767)          Rice\n",
       "247  (10.581547330796518, 105.23991550078767)          Rice\n",
       "248  (10.629241357910818, 105.15315779432643)          Rice\n",
       "249  (10.574733898351617, 105.10410108072531)      Non Rice\n",
       "\n",
       "[250 rows x 2 columns]"
      ]
     },
     "execution_count": 76,
     "metadata": {},
     "output_type": "execute_result"
    }
   ],
   "source": [
    "submission_df"
   ]
  },
  {
   "cell_type": "code",
   "execution_count": 77,
   "id": "f7264148-b168-4ca0-8702-dd2ed8e0c149",
   "metadata": {},
   "outputs": [],
   "source": [
    "import csv"
   ]
  },
  {
   "cell_type": "code",
   "execution_count": 79,
   "id": "935ce900-5e9f-493b-a5f9-f95b882e0032",
   "metadata": {},
   "outputs": [],
   "source": [
    "submission_df.to_csv(\"challenge_1_submission_rice_crop_prediction.csv\",index = False)"
   ]
  },
  {
   "cell_type": "code",
   "execution_count": null,
   "id": "336a85a2-a45b-432b-a34b-9265b39eadb1",
   "metadata": {},
   "outputs": [],
   "source": []
  }
 ],
 "metadata": {
  "kernelspec": {
   "display_name": "Python 3 (ipykernel)",
   "language": "python",
   "name": "python3"
  },
  "language_info": {
   "codemirror_mode": {
    "name": "ipython",
    "version": 3
   },
   "file_extension": ".py",
   "mimetype": "text/x-python",
   "name": "python",
   "nbconvert_exporter": "python",
   "pygments_lexer": "ipython3",
   "version": "3.10.2"
  }
 },
 "nbformat": 4,
 "nbformat_minor": 5
}
